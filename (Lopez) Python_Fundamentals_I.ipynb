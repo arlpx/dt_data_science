{
  "cells": [
    {
      "cell_type": "markdown",
      "metadata": {
        "id": "view-in-github",
        "colab_type": "text"
      },
      "source": [
        "<a href=\"https://colab.research.google.com/github/arlpx/dt_data_science/blob/main/(Lopez)%20Python_Fundamentals_I.ipynb\" target=\"_parent\"><img src=\"https://colab.research.google.com/assets/colab-badge.svg\" alt=\"Open In Colab\"/></a>"
      ]
    },
    {
      "cell_type": "markdown",
      "metadata": {
        "id": "OhqUAv24siU0"
      },
      "source": [
        "\n",
        "# **Programming and Python Fundamentals**"
      ]
    },
    {
      "cell_type": "markdown",
      "metadata": {
        "id": "wjQkEuPIsiU1"
      },
      "source": [
        "## What is a computer program?\n",
        "a program is a list of instructions that a computer carries out in order."
      ]
    },
    {
      "cell_type": "code",
      "execution_count": null,
      "metadata": {
        "id": "i3JZHjY_siU2"
      },
      "outputs": [],
      "source": [
        "1 + 1"
      ]
    },
    {
      "cell_type": "code",
      "execution_count": null,
      "metadata": {
        "id": "0sFYcErssiU3"
      },
      "outputs": [],
      "source": [
        "2 * 3.5"
      ]
    },
    {
      "cell_type": "code",
      "execution_count": null,
      "metadata": {
        "id": "qm8Lk7JcsiU3"
      },
      "outputs": [],
      "source": [
        "1 + 1\n",
        "2 * 3.5"
      ]
    },
    {
      "cell_type": "code",
      "execution_count": null,
      "metadata": {
        "id": "NMuHzcKRsiU3"
      },
      "outputs": [],
      "source": [
        "print(1 + 1)\n",
        "print(2 * 3.5)"
      ]
    },
    {
      "cell_type": "markdown",
      "metadata": {
        "id": "amt2hM70siU3"
      },
      "source": [
        "### **Comments**\n",
        "- lines in the code that the computer won't execute. <br>\n",
        "- `#` to indicate that we are making a comment."
      ]
    },
    {
      "cell_type": "code",
      "execution_count": null,
      "metadata": {
        "id": "I7OCej6rsiU4"
      },
      "outputs": [],
      "source": [
        "print('1 + 1 is', 1 + 1)\n",
        "# this is a comment, Python won't try to execute it\n",
        "print('All done!')"
      ]
    },
    {
      "cell_type": "markdown",
      "metadata": {
        "id": "0pBASMopsiU4"
      },
      "source": [
        "### **Variable**"
      ]
    },
    {
      "cell_type": "code",
      "execution_count": null,
      "metadata": {
        "id": "90F-bE6YsiU4"
      },
      "outputs": [],
      "source": [
        "first_result = 1 + 1\n",
        "final_result = first_result * 3.5\n",
        "\n",
        "print(final_result)"
      ]
    },
    {
      "cell_type": "markdown",
      "metadata": {
        "id": "5lwuYEaysiU5"
      },
      "source": [
        "### Example"
      ]
    },
    {
      "cell_type": "code",
      "execution_count": null,
      "metadata": {
        "id": "0aWLBecasiU5"
      },
      "outputs": [],
      "source": [
        "my_name = 'John'\n",
        "my_age = 29\n",
        "my_favorite_number = 3.14\n",
        "has_dog = True\n",
        "\n",
        "print('My name is', my_name)\n",
        "print('My age is', my_age)\n",
        "print('My favorite number is', my_favorite_number)\n",
        "print('I own a dog:', has_dog)"
      ]
    },
    {
      "cell_type": "code",
      "execution_count": null,
      "metadata": {
        "id": "nHmzw8YKsiU5"
      },
      "outputs": [],
      "source": [
        "print(type(my_name))\n",
        "print(type(my_age))\n",
        "print(type(my_favorite_number))\n",
        "print(type(has_dog))"
      ]
    },
    {
      "cell_type": "markdown",
      "metadata": {
        "id": "CgNi_7IYsiU5"
      },
      "source": [
        "----\n",
        "## Data Types\n",
        "- **String** (`str`): a sequence of characters.\n",
        "  \n",
        "- **Integer** (`int`): whole number.\n",
        "- **Float** or **Floating point number** (`float`): a decimal number\n",
        "- **Bool** or **Boolean** (`bool`): refers to a variable that is either `true` or `false`."
      ]
    },
    {
      "cell_type": "markdown",
      "metadata": {
        "id": "fLAPGpVEsiU5"
      },
      "source": [
        "### Exercises\n",
        "\n",
        "1. Define `my_name` and `my_age` variables with values corresponding to your own name and age and print them.\n",
        "1. Use your `my_age` variable to print out how old you will be in 10 years."
      ]
    },
    {
      "cell_type": "markdown",
      "metadata": {
        "id": "WlJDvbD1siU5"
      },
      "source": [
        "### Solution"
      ]
    },
    {
      "cell_type": "code",
      "execution_count": null,
      "metadata": {
        "id": "utW3CRe3siU5"
      },
      "outputs": [],
      "source": []
    },
    {
      "cell_type": "code",
      "execution_count": null,
      "metadata": {
        "id": "m0PF4JyvsiU5"
      },
      "outputs": [],
      "source": []
    },
    {
      "cell_type": "markdown",
      "metadata": {
        "id": "obOLxDn2siU5"
      },
      "source": [
        "## **Functions**\n",
        "- allow us to define a task we would like the computer to carry out based on input.\n",
        "- define functions using the`def` keyword\n",
        "\n",
        "Sample functions:"
      ]
    },
    {
      "cell_type": "markdown",
      "metadata": {
        "id": "FsGhT6c3siU5"
      },
      "source": [
        "$ $ f(x) = 3x + 2\n"
      ]
    },
    {
      "cell_type": "markdown",
      "metadata": {
        "id": "ACBwYE_isiU5"
      },
      "source": [
        "$ $ f(6) = 20"
      ]
    },
    {
      "cell_type": "markdown",
      "metadata": {
        "id": "7bYg6W89siU6"
      },
      "source": [
        "$ $ y = 2\n",
        "\n",
        "$ $ f(y) = 8\n"
      ]
    },
    {
      "cell_type": "code",
      "execution_count": null,
      "metadata": {
        "id": "BYWo7jm_siU6"
      },
      "outputs": [],
      "source": [
        "def square(number):\n",
        "    return number**2"
      ]
    },
    {
      "cell_type": "code",
      "execution_count": null,
      "metadata": {
        "id": "v_IIj4cJsiU6"
      },
      "outputs": [],
      "source": [
        "# we can store function output in variables\n",
        "squared = square(5.5)\n",
        "\n",
        "print(squared)\n",
        "\n",
        "my_number = 6\n",
        "\n",
        "# we can also use variables as function input\n",
        "print(square(my_number))"
      ]
    },
    {
      "cell_type": "code",
      "execution_count": null,
      "metadata": {
        "id": "-DB-nHyUsiU6"
      },
      "outputs": [],
      "source": [
        "%%expect_exception TypeError\n",
        "\n",
        "print(square('banana'))"
      ]
    },
    {
      "cell_type": "markdown",
      "metadata": {
        "id": "d8r8etLNsiU6"
      },
      "source": [
        "### Exercises\n",
        "\n",
        "1. Write a function to cube a number.\n",
        "2. Write a function, `say_hello` which takes in a name variable and print out \"Hello name\".  `say_hello(\"Dean\")` should print `\"Hello Dean\"`."
      ]
    },
    {
      "cell_type": "markdown",
      "metadata": {
        "id": "qFBZbMTGsiU6"
      },
      "source": [
        "### Solution"
      ]
    },
    {
      "cell_type": "markdown",
      "metadata": {
        "id": "22gIOI6VsiU6"
      },
      "source": [
        "1."
      ]
    },
    {
      "cell_type": "code",
      "execution_count": null,
      "metadata": {
        "id": "QHBjwTZtsiU6"
      },
      "outputs": [],
      "source": []
    },
    {
      "cell_type": "code",
      "execution_count": null,
      "metadata": {
        "id": "DOrbJP8ssiU6"
      },
      "outputs": [],
      "source": []
    },
    {
      "cell_type": "markdown",
      "metadata": {
        "id": "KI4gSEKlsiU6"
      },
      "source": [
        "2."
      ]
    },
    {
      "cell_type": "code",
      "execution_count": null,
      "metadata": {
        "id": "DTagKV5XsiU6"
      },
      "outputs": [],
      "source": []
    },
    {
      "cell_type": "code",
      "execution_count": null,
      "metadata": {
        "id": "C4xt-uVGsiU6"
      },
      "outputs": [],
      "source": []
    },
    {
      "cell_type": "markdown",
      "metadata": {
        "id": "VzSKqwa4siU6"
      },
      "source": [
        "### **Why Functions?**"
      ]
    },
    {
      "cell_type": "code",
      "execution_count": null,
      "metadata": {
        "id": "6ACWF0FVsiU6"
      },
      "outputs": [],
      "source": [
        "1**2\n",
        "2**2\n",
        "3**2\n",
        "4**2\n",
        "5**2\n",
        "6**2\n",
        "7**2\n",
        "8**2\n",
        "9**2"
      ]
    },
    {
      "cell_type": "markdown",
      "metadata": {
        "id": "VpMSVvd8siU6"
      },
      "source": [
        "Forgot to Print?"
      ]
    },
    {
      "cell_type": "code",
      "execution_count": null,
      "metadata": {
        "id": "YM7je9mpsiU6"
      },
      "outputs": [],
      "source": [
        "print(1**2)\n",
        "print(2**2)\n",
        "print(3**2)\n",
        "print(4**2)\n",
        "print(5**2)\n",
        "print(6**2)\n",
        "print(7**2)\n",
        "print(8**2)\n",
        "print(9**2)"
      ]
    },
    {
      "cell_type": "markdown",
      "metadata": {
        "id": "JAvgWYGMsiU6"
      },
      "source": [
        "In function:"
      ]
    },
    {
      "cell_type": "code",
      "execution_count": null,
      "metadata": {
        "id": "Rg-LClmVsiU6"
      },
      "outputs": [],
      "source": [
        "def do_it(x):\n",
        "    print(x**2 + 2)"
      ]
    },
    {
      "cell_type": "code",
      "execution_count": null,
      "metadata": {
        "id": "OM9h1Ky0siU-"
      },
      "outputs": [],
      "source": [
        "do_it(1)\n",
        "do_it(2)\n",
        "do_it(3)\n",
        "do_it(4)\n",
        "do_it(5)\n",
        "do_it(6)\n",
        "do_it(7)\n",
        "do_it(8)\n",
        "do_it(9)"
      ]
    },
    {
      "cell_type": "markdown",
      "metadata": {
        "id": "0sTToqa_siU-"
      },
      "source": [
        "### More About Functions"
      ]
    },
    {
      "cell_type": "code",
      "execution_count": null,
      "metadata": {
        "id": "_mUhWdXasiU-"
      },
      "outputs": [],
      "source": [
        "def print_this(a):\n",
        "    print('inside print_this: ', a)\n",
        "\n",
        "a = 5\n",
        "print_this(2)\n",
        "print('a = ', a)"
      ]
    },
    {
      "cell_type": "markdown",
      "metadata": {
        "id": "nU4SkjIwsiU-"
      },
      "source": [
        "Notice that even though `print_this` was printing the variable `a` inside the function and there was a variable `a` defined outside of the function, the `print` function inside `print_this` still printed what was passed in."
      ]
    },
    {
      "cell_type": "code",
      "execution_count": null,
      "metadata": {
        "id": "DV-sPatTsiU-"
      },
      "outputs": [],
      "source": [
        "def print_it():\n",
        "    print('inside print_it: ', a)\n",
        "\n",
        "a = 5\n",
        "print_it()\n",
        "print('a = ', a)"
      ]
    },
    {
      "cell_type": "code",
      "execution_count": null,
      "metadata": {
        "id": "QuS2s7NisiU-"
      },
      "outputs": [],
      "source": [
        "def some_exponent(exponent):\n",
        "    def func(x):\n",
        "        return x**exponent\n",
        "    return func"
      ]
    },
    {
      "cell_type": "markdown",
      "metadata": {
        "id": "pPLlry9xsiU-"
      },
      "source": [
        "### Exercises\n",
        "\n",
        "1. Modify the `do_it` function to print the square of the value it currently prints."
      ]
    },
    {
      "cell_type": "markdown",
      "metadata": {
        "id": "3WtTXxq3siU-"
      },
      "source": [
        "### Solution"
      ]
    },
    {
      "cell_type": "code",
      "execution_count": null,
      "metadata": {
        "id": "TLhNK2PwsiU-"
      },
      "outputs": [],
      "source": []
    },
    {
      "cell_type": "code",
      "execution_count": null,
      "metadata": {
        "id": "_0fb6JA0siU-"
      },
      "outputs": [],
      "source": []
    },
    {
      "cell_type": "markdown",
      "metadata": {
        "id": "u9sxra7qsiU-"
      },
      "source": [
        "## **Syntax**\n",
        "- the rules for organizing code the programming language's\n",
        "- Python's syntax is very streamlined so that the code is readable and intuitive"
      ]
    },
    {
      "cell_type": "code",
      "execution_count": null,
      "metadata": {
        "id": "W4j6FD5-siU-"
      },
      "outputs": [],
      "source": [
        "def example_a():\n",
        "    print('example_a is running')\n",
        "    print('returning value \"a\"')\n",
        "    return 'a'\n",
        "\n",
        "example_a()"
      ]
    },
    {
      "cell_type": "code",
      "execution_count": null,
      "metadata": {
        "id": "DPJUq4h5siU_"
      },
      "outputs": [],
      "source": [
        "def example_b():\n",
        "    print('example_b is running')\n",
        "    print('exiting without returning a value')\n",
        "\n",
        "example_b()"
      ]
    },
    {
      "cell_type": "markdown",
      "metadata": {
        "id": "fJt_8AgqsiU_"
      },
      "source": [
        "## **Conditionals and logic**"
      ]
    },
    {
      "cell_type": "code",
      "execution_count": null,
      "metadata": {
        "id": "Aef_fnfHsiU_"
      },
      "outputs": [],
      "source": [
        "def test_high_score(player_score, high_score):\n",
        "    if player_score > high_score:\n",
        "        print('High score!')\n",
        "        high_score = player_score\n",
        "\n",
        "    return high_score"
      ]
    },
    {
      "cell_type": "code",
      "execution_count": null,
      "metadata": {
        "id": "vfyktRr4siU_"
      },
      "outputs": [],
      "source": [
        "print(test_high_score(83, 98))"
      ]
    },
    {
      "cell_type": "code",
      "execution_count": null,
      "metadata": {
        "id": "untbNEdHsiU_"
      },
      "outputs": [],
      "source": [
        "print(test_high_score(95, 93))"
      ]
    },
    {
      "cell_type": "markdown",
      "metadata": {
        "id": "ZOqCdvmesiU_"
      },
      "source": [
        "Conditional statements are used to control program flow. We can visualize our example, `test_high_score`, in a decision tree.\n",
        "\n",
        "![simple_logic_flowchart](https://github.com/arlpx/dt_data_science/blob/main/images/high_score_flowchart.png?raw=1)\n",
        "\n",
        "We can nest `if` statements to make more complicated trees."
      ]
    },
    {
      "cell_type": "code",
      "execution_count": null,
      "metadata": {
        "id": "Le--FICGsiU_"
      },
      "outputs": [],
      "source": [
        "def nested_example(x):\n",
        "    if x < 50:\n",
        "        if x % 2 == 0:\n",
        "            return 'branch a'\n",
        "        else:\n",
        "            return 'branch b'\n",
        "    else:\n",
        "        return 'branch c'\n",
        "\n",
        "print(nested_example(42))\n",
        "print(nested_example(51))\n",
        "print(nested_example(37))"
      ]
    },
    {
      "cell_type": "markdown",
      "metadata": {
        "id": "CUm1HSC3siU_"
      },
      "source": [
        "In this example, we have an `if` statement nested under another `if` statement. As we change the input, we end up on different branches of the tree.\n",
        "\n",
        "![nested_logic_flowchart](https://github.com/arlpx/dt_data_science/blob/main/images/nested_logic_flowchart.png?raw=1)\n",
        "\n",
        "The statement that follows the `if` is called the **condition**. The condition can be either true or false."
      ]
    },
    {
      "cell_type": "code",
      "execution_count": null,
      "metadata": {
        "id": "Y032FjLisiU_"
      },
      "outputs": [],
      "source": [
        "print(50 > 10)\n",
        "print(2 + 2 == 4)\n",
        "print(-3 > 2)"
      ]
    },
    {
      "cell_type": "markdown",
      "metadata": {
        "id": "jBcyEOiesiU_"
      },
      "source": [
        "Conditions are evaluated as booleans, which are `True` or `False`. We can combine conditions by asking of condition A _and_ condition B are true. We could also ask if condition A *or* condition B are true. Let's consider whether such statements are true overall based on the possible values of condition A and condition B.\n",
        "\n",
        "|Condition A|Condition B|Condition A and Condition B|Condition A or Condition B|\n",
        "|:---------:|:---------:|:-------------------------:|:------------------------:|\n",
        "|True|True|True|True|\n",
        "|True|False|False|True|\n",
        "|False|True|False|True|\n",
        "|False|False|False|False|"
      ]
    },
    {
      "cell_type": "code",
      "execution_count": null,
      "metadata": {
        "id": "3laY2wofsiU_"
      },
      "outputs": [],
      "source": [
        "print(True and True)\n",
        "print(True and False)\n",
        "print(False and True)\n",
        "print(False and False)"
      ]
    },
    {
      "cell_type": "code",
      "execution_count": null,
      "metadata": {
        "id": "Ihy__N1VsiU_"
      },
      "outputs": [],
      "source": [
        "print(True or True)\n",
        "print(True or False)\n",
        "print(False or True)\n",
        "print(False or False)"
      ]
    },
    {
      "cell_type": "code",
      "execution_count": null,
      "metadata": {
        "id": "B0e4Qk7dsiU_"
      },
      "outputs": [],
      "source": [
        "x = 5\n",
        "y = 3\n",
        "\n",
        "print(x > 4 and y > 2)\n",
        "print(x > 7 and y > 2)\n",
        "print(x > 7 or y > 2)"
      ]
    },
    {
      "cell_type": "markdown",
      "metadata": {
        "id": "2S5TrgUdsiU_"
      },
      "source": [
        "## Logical Operations\n",
        "- `or`\n",
        "- `and`\n",
        "- `not` (Not True = False, Not False = True)"
      ]
    },
    {
      "cell_type": "code",
      "execution_count": null,
      "metadata": {
        "id": "bHwF8_MAsiU_"
      },
      "outputs": [],
      "source": [
        "print(not True)\n",
        "print(not False)"
      ]
    },
    {
      "cell_type": "code",
      "execution_count": null,
      "metadata": {
        "id": "WZhFOfGusiVA"
      },
      "outputs": [],
      "source": [
        "x = 10\n",
        "y = 8\n",
        "\n",
        "print(x > 7 or y < 7)\n",
        "print(not x > 7 or y < 7)\n",
        "print(not x > 7 or not y < 7)\n",
        "print(not (x > 7 or y < 7))"
      ]
    },
    {
      "cell_type": "markdown",
      "metadata": {
        "id": "-gYhtY1ssiVA"
      },
      "source": [
        "### Exercises\n",
        "\n",
        "1. Write a function which takes in a number and returns True if it is greater than 10 but less than 20 or it is less than -100.\n",
        "2. In the code above we have used the `%` operator.  What does this do?"
      ]
    },
    {
      "cell_type": "markdown",
      "metadata": {
        "id": "03_-71WWsiVA"
      },
      "source": [
        "### Solution"
      ]
    },
    {
      "cell_type": "code",
      "execution_count": null,
      "metadata": {
        "id": "wJpe8nbasiVA"
      },
      "outputs": [],
      "source": []
    },
    {
      "cell_type": "code",
      "execution_count": null,
      "metadata": {
        "id": "UVKKjobGsiVA"
      },
      "outputs": [],
      "source": []
    },
    {
      "cell_type": "markdown",
      "metadata": {
        "id": "st-ubEpQsiVA"
      },
      "source": [
        "\n",
        "- `%`: return the remainder of the given number in which number divided to any other number."
      ]
    },
    {
      "cell_type": "markdown",
      "metadata": {
        "id": "3S4HAi9AsiVA"
      },
      "source": [
        "## **Iteration**\n",
        "- use repetitive loops to execute the same code many times."
      ]
    },
    {
      "cell_type": "markdown",
      "metadata": {
        "id": "4UrH4hTTsiVA"
      },
      "source": [
        "### **While Loop**\n",
        "- most basic kind of iteration\n",
        "- will keep executing so long as the condition after the `while` is `True`."
      ]
    },
    {
      "cell_type": "code",
      "execution_count": null,
      "metadata": {
        "scrolled": true,
        "id": "3Sk7GhVysiVA",
        "outputId": "f7e62b14-489e-4994-d9a0-8aa50af3cf0e"
      },
      "outputs": [
        {
          "name": "stdout",
          "output_type": "stream",
          "text": [
            "Enter any positive integer number:7\n",
            "0\n",
            "1\n",
            "1\n",
            "2\n",
            "3\n",
            "5\n",
            "8\n"
          ]
        }
      ],
      "source": [
        "n = int(input(\"Enter any positive integer number:\"))\n",
        "f0 = 0\n",
        "f1 = 1\n",
        "print(f0)\n",
        "print(f1)\n",
        "\n",
        "count = 2\n",
        "\n",
        "while count < n:\n",
        "    next_f = f0 + f1\n",
        "    print(next_f)\n",
        "\n",
        "    f0 = f1\n",
        "    f1 = next_f\n",
        "    count += 1\n"
      ]
    },
    {
      "cell_type": "code",
      "execution_count": null,
      "metadata": {
        "id": "5VwB5TZasiVB",
        "outputId": "c067f96c-f8fc-41f9-fd78-53a6352b6832"
      },
      "outputs": [
        {
          "name": "stdout",
          "output_type": "stream",
          "text": [
            "0\n",
            "1\n",
            "2\n",
            "3\n",
            "4\n"
          ]
        }
      ],
      "source": [
        "x = 0\n",
        "while x < 5:\n",
        "    print(x)\n",
        "    x = x + 1"
      ]
    },
    {
      "cell_type": "markdown",
      "metadata": {
        "id": "C0rgdlDUsiVB"
      },
      "source": [
        "Sometimes we will want our program to take a repeated action, but we won't know how many repetitions we will have to do, or it might be difficult to know ahead of time when the program should stop. How are we going to solve the problem?\n",
        "\n",
        "### Example\n",
        "Instructions for making bread:  \n",
        "1) Dissolve salt in water  \n",
        "2) Mix yeast into water  \n",
        "3) Mix water with flour to form dough  \n",
        "4) Knead dough  \n",
        "5) Let dough rise  \n",
        "6) Shape dough  \n",
        "7) Bake  \n",
        "\n",
        "The recipe has an ordered `list` of instructions."
      ]
    },
    {
      "cell_type": "code",
      "execution_count": null,
      "metadata": {
        "id": "OBlzSY1TsiVB"
      },
      "outputs": [],
      "source": [
        "bread_recipe = ['Dissolve salt in water', 'Mix yeast into water', 'Mix water with flour to form dough',\n",
        "                'Knead dough', 'Let dough rise', 'Shape dough', 'Bake']"
      ]
    },
    {
      "cell_type": "code",
      "execution_count": null,
      "metadata": {
        "id": "wa8k_-elsiVB"
      },
      "outputs": [],
      "source": [
        "soup_recipe = ['Dissolve salt in water', 'Boil  water', 'Add bones to boiling water', 'Chop onions',\n",
        "               'Chop garlic', 'Chop carrot', 'Chop celery', 'Remove bones from water',\n",
        "               'Add vegetables to boiling water', 'Add meat to boiling water']\n",
        "\n",
        "beans_recipe = ['Soak beans in water', 'Dissolve salt in water', 'Heat water and beans to boil',\n",
        "                'Drain beans when done cooking']"
      ]
    },
    {
      "cell_type": "markdown",
      "metadata": {
        "id": "2cBE-1XUsiVB"
      },
      "source": [
        "## **For Loop**\n",
        "- used for executing a set of statements for each item in a list"
      ]
    },
    {
      "cell_type": "code",
      "execution_count": null,
      "metadata": {
        "id": "h4vLIX9YsiVB"
      },
      "outputs": [],
      "source": [
        "def print_recipe(instructions):\n",
        "    for step in instructions:\n",
        "        print(step)"
      ]
    },
    {
      "cell_type": "code",
      "execution_count": null,
      "metadata": {
        "id": "P3IpOj0SsiVB"
      },
      "outputs": [],
      "source": [
        "print_recipe(soup_recipe)"
      ]
    },
    {
      "cell_type": "code",
      "execution_count": null,
      "metadata": {
        "id": "QhNaHh6DsiVB"
      },
      "outputs": [],
      "source": [
        "print_recipe(bread_recipe)"
      ]
    },
    {
      "cell_type": "code",
      "execution_count": null,
      "metadata": {
        "id": "3VsuqQzHsiVB"
      },
      "outputs": [],
      "source": [
        "print_recipe(beans_recipe)"
      ]
    },
    {
      "cell_type": "markdown",
      "metadata": {
        "id": "ko0Klr0ZsiVC"
      },
      "source": [
        "## Putting it all together\n",
        "\n",
        "- Major components of programs: **variables** and **functions**.\n",
        "- Two of the major components of program control: **conditionals** (`if` statements) and **iteration** (`for` and `while` loops). <br>\n",
        "\n",
        "We can use these ideas and tools to write code to perform complex tasks.\n",
        "\n",
        "\n",
        "### Exercise\n",
        "Below we write a function that prints out all the prime numbers up to some number `n`.\n",
        "- Use iteration to check if each number is prime.\n",
        "- Use a conditional to print out numbers only if they are prime.\n",
        "- Break up the task into small pieces so the code is easy to read and understand. (This means we will use (or _call_) helper functions inside of our solution."
      ]
    },
    {
      "cell_type": "code",
      "execution_count": null,
      "metadata": {
        "id": "stK323ZFsiVC"
      },
      "outputs": [],
      "source": []
    },
    {
      "cell_type": "code",
      "execution_count": null,
      "metadata": {
        "id": "UMkr-_4vsiVC"
      },
      "outputs": [],
      "source": []
    },
    {
      "cell_type": "code",
      "execution_count": null,
      "metadata": {
        "id": "vbWYT-4CsiVC"
      },
      "outputs": [],
      "source": []
    },
    {
      "cell_type": "markdown",
      "metadata": {
        "id": "a4KQHzcDsiVC"
      },
      "source": [
        "---"
      ]
    }
  ],
  "metadata": {
    "kernelspec": {
      "display_name": "Python 3 (ipykernel)",
      "language": "python",
      "name": "python3"
    },
    "language_info": {
      "codemirror_mode": {
        "name": "ipython",
        "version": 3
      },
      "file_extension": ".py",
      "mimetype": "text/x-python",
      "name": "python",
      "nbconvert_exporter": "python",
      "pygments_lexer": "ipython3",
      "version": "3.12.7"
    },
    "nbclean": true,
    "colab": {
      "provenance": [],
      "include_colab_link": true
    }
  },
  "nbformat": 4,
  "nbformat_minor": 0
}