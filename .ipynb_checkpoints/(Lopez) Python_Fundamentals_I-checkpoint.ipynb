{
  "cells": [
    {
      "cell_type": "markdown",
      "metadata": {
        "id": "view-in-github",
        "colab_type": "text"
      },
      "source": [
        "<a href=\"https://colab.research.google.com/github/arlpx/dt_data_science/blob/main/(Lopez)%20Python_Fundamentals_I.ipynb\" target=\"_parent\"><img src=\"https://colab.research.google.com/assets/colab-badge.svg\" alt=\"Open In Colab\"/></a>"
      ]
    },
    {
      "cell_type": "markdown",
      "metadata": {
        "id": "OhqUAv24siU0"
      },
      "source": [
        "\n",
        "# **Programming and Python Fundamentals**"
      ]
    },
    {
      "cell_type": "markdown",
      "metadata": {
        "id": "wjQkEuPIsiU1"
      },
      "source": [
        "## What is a computer program?\n",
        "a program is a list of instructions that a computer carries out in order."
      ]
    },
    {
      "cell_type": "code",
      "execution_count": null,
      "metadata": {
        "id": "i3JZHjY_siU2"
      },
      "outputs": [],
      "source": [
        "1 + 1"
      ]
    },
    {
      "cell_type": "code",
      "execution_count": null,
      "metadata": {
        "id": "0sFYcErssiU3"
      },
      "outputs": [],
      "source": [
        "2 * 3.5"
      ]
    },
    {
      "cell_type": "code",
      "execution_count": null,
      "metadata": {
        "id": "qm8Lk7JcsiU3"
      },
      "outputs": [],
      "source": [
        "1 + 1\n",
        "2 * 3.5"
      ]
    },
    {
      "cell_type": "code",
      "execution_count": null,
      "metadata": {
        "id": "NMuHzcKRsiU3"
      },
      "outputs": [],
      "source": [
        "print(1 + 1)\n",
        "print(2 * 3.5)"
      ]
    },
    {
      "cell_type": "markdown",
      "metadata": {
        "id": "amt2hM70siU3"
      },
      "source": [
        "### **Comments**\n",
        "- lines in the code that the computer won't execute. <br>\n",
        "- `#` to indicate that we are making a comment."
      ]
    },
    {
      "cell_type": "code",
      "execution_count": null,
      "metadata": {
        "id": "I7OCej6rsiU4"
      },
      "outputs": [],
      "source": [
        "print('1 + 1 is', 1 + 1)\n",
        "# this is a comment, Python won't try to execute it\n",
        "print('All done!')"
      ]
    },
    {
      "cell_type": "markdown",
      "metadata": {
        "id": "0pBASMopsiU4"
      },
      "source": [
        "### **Variable**"
      ]
    },
    {
      "cell_type": "code",
      "execution_count": null,
      "metadata": {
        "id": "90F-bE6YsiU4"
      },
      "outputs": [],
      "source": [
        "first_result = 1 + 1\n",
        "final_result = first_result * 3.5\n",
        "\n",
        "print(final_result)"
      ]
    },
    {
      "cell_type": "markdown",
      "metadata": {
        "id": "5lwuYEaysiU5"
      },
      "source": [
        "### Example"
      ]
    },
    {
      "cell_type": "code",
      "execution_count": null,
      "metadata": {
        "id": "0aWLBecasiU5"
      },
      "outputs": [],
      "source": [
        "my_name = 'John'\n",
        "my_age = 29\n",
        "my_favorite_number = 3.14\n",
        "has_dog = True\n",
        "\n",
        "print('My name is', my_name)\n",
        "print('My age is', my_age)\n",
        "print('My favorite number is', my_favorite_number)\n",
        "print('I own a dog:', has_dog)"
      ]
    },
    {
      "cell_type": "code",
      "execution_count": null,
      "metadata": {
        "id": "nHmzw8YKsiU5"
      },
      "outputs": [],
      "source": [
        "print(type(my_name))\n",
        "print(type(my_age))\n",
        "print(type(my_favorite_number))\n",
        "print(type(has_dog))"
      ]
    },
    {
      "cell_type": "markdown",
      "metadata": {
        "id": "CgNi_7IYsiU5"
      },
      "source": [
        "----\n",
        "## Data Types\n",
        "- **String** (`str`): a sequence of characters.\n",
        "  \n",
        "- **Integer** (`int`): whole number.\n",
        "- **Float** or **Floating point number** (`float`): a decimal number\n",
        "- **Bool** or **Boolean** (`bool`): refers to a variable that is either `true` or `false`."
      ]
    },
    {
      "cell_type": "markdown",
      "metadata": {
        "id": "fLAPGpVEsiU5"
      },
      "source": [
        "### Exercises\n",
        "\n",
        "1. Define `my_name` and `my_age` variables with values corresponding to your own name and age and print them.\n",
        "1. Use your `my_age` variable to print out how old you will be in 10 years."
      ]
    },
    {
      "cell_type": "markdown",
      "metadata": {
        "id": "WlJDvbD1siU5"
      },
      "source": [
        "### Solution"
      ]
    },
    {
      "cell_type": "code",
      "execution_count": 23,
      "metadata": {
        "id": "utW3CRe3siU5",
        "colab": {
          "base_uri": "https://localhost:8080/"
        },
        "outputId": "00f33c83-c713-405c-bc32-33aabdcde9c6"
      },
      "outputs": [
        {
          "output_type": "stream",
          "name": "stdout",
          "text": [
            "My name is AR Lopez\n",
            "My age  is 25\n"
          ]
        }
      ],
      "source": [
        "my_name = 'AR Lopez'\n",
        "my_age = 25\n",
        "\n",
        "print('My name is', my_name)\n",
        "print('My age is', my_age)"
      ]
    },
    {
      "cell_type": "code",
      "execution_count": 27,
      "metadata": {
        "id": "m0PF4JyvsiU5",
        "colab": {
          "base_uri": "https://localhost:8080/"
        },
        "outputId": "00ba022c-fa01-4ca7-ebb3-bd7443cd4c82"
      },
      "outputs": [
        {
          "output_type": "stream",
          "name": "stdout",
          "text": [
            "My age in ten years would be 35\n"
          ]
        }
      ],
      "source": [
        "print('My age in ten years would be', my_age + 10)"
      ]
    },
    {
      "cell_type": "markdown",
      "metadata": {
        "id": "obOLxDn2siU5"
      },
      "source": [
        "## **Functions**\n",
        "- allow us to define a task we would like the computer to carry out based on input.\n",
        "- define functions using the`def` keyword\n",
        "\n",
        "Sample functions:"
      ]
    },
    {
      "cell_type": "markdown",
      "metadata": {
        "id": "FsGhT6c3siU5"
      },
      "source": [
        "$ $ f(x) = 3x + 2\n"
      ]
    },
    {
      "cell_type": "markdown",
      "metadata": {
        "id": "ACBwYE_isiU5"
      },
      "source": [
        "$ $ f(6) = 20"
      ]
    },
    {
      "cell_type": "markdown",
      "metadata": {
        "id": "7bYg6W89siU6"
      },
      "source": [
        "$ $ y = 2\n",
        "\n",
        "$ $ f(y) = 8\n"
      ]
    },
    {
      "cell_type": "code",
      "execution_count": null,
      "metadata": {
        "id": "BYWo7jm_siU6"
      },
      "outputs": [],
      "source": [
        "def square(number):\n",
        "    return number**2"
      ]
    },
    {
      "cell_type": "code",
      "execution_count": 6,
      "metadata": {
        "id": "v_IIj4cJsiU6",
        "colab": {
          "base_uri": "https://localhost:8080/",
          "height": 211
        },
        "outputId": "923559df-4580-4c9d-d694-c531879d1b25"
      },
      "outputs": [
        {
          "output_type": "error",
          "ename": "NameError",
          "evalue": "name 'square' is not defined",
          "traceback": [
            "\u001b[0;31m---------------------------------------------------------------------------\u001b[0m",
            "\u001b[0;31mNameError\u001b[0m                                 Traceback (most recent call last)",
            "\u001b[0;32m/tmp/ipython-input-2801097991.py\u001b[0m in \u001b[0;36m<cell line: 0>\u001b[0;34m()\u001b[0m\n\u001b[1;32m      1\u001b[0m \u001b[0;31m# we can store function output in variables\u001b[0m\u001b[0;34m\u001b[0m\u001b[0;34m\u001b[0m\u001b[0m\n\u001b[0;32m----> 2\u001b[0;31m \u001b[0msquared\u001b[0m \u001b[0;34m=\u001b[0m \u001b[0msquare\u001b[0m\u001b[0;34m(\u001b[0m\u001b[0;36m5.5\u001b[0m\u001b[0;34m)\u001b[0m\u001b[0;34m\u001b[0m\u001b[0;34m\u001b[0m\u001b[0m\n\u001b[0m\u001b[1;32m      3\u001b[0m \u001b[0;34m\u001b[0m\u001b[0m\n\u001b[1;32m      4\u001b[0m \u001b[0mprint\u001b[0m\u001b[0;34m(\u001b[0m\u001b[0msquared\u001b[0m\u001b[0;34m)\u001b[0m\u001b[0;34m\u001b[0m\u001b[0;34m\u001b[0m\u001b[0m\n\u001b[1;32m      5\u001b[0m \u001b[0;34m\u001b[0m\u001b[0m\n",
            "\u001b[0;31mNameError\u001b[0m: name 'square' is not defined"
          ]
        }
      ],
      "source": [
        "# we can store function output in variables\n",
        "squared = square(5.5)\n",
        "\n",
        "print(squared)\n",
        "\n",
        "my_number = 6\n",
        "\n",
        "# we can also use variables as function input\n",
        "print(square(my_number))"
      ]
    },
    {
      "cell_type": "code",
      "execution_count": null,
      "metadata": {
        "id": "-DB-nHyUsiU6"
      },
      "outputs": [],
      "source": [
        "%%expect_exception TypeError\n",
        "\n",
        "print(square('banana'))"
      ]
    },
    {
      "cell_type": "markdown",
      "metadata": {
        "id": "d8r8etLNsiU6"
      },
      "source": [
        "### Exercises\n",
        "\n",
        "1. Write a function to cube a number.\n",
        "2. Write a function, `say_hello` which takes in a name variable and print out \"Hello name\".  `say_hello(\"Dean\")` should print `\"Hello Dean\"`."
      ]
    },
    {
      "cell_type": "markdown",
      "metadata": {
        "id": "qFBZbMTGsiU6"
      },
      "source": [
        "### Solution"
      ]
    },
    {
      "cell_type": "markdown",
      "metadata": {
        "id": "22gIOI6VsiU6"
      },
      "source": [
        "1."
      ]
    },
    {
      "cell_type": "code",
      "execution_count": 10,
      "metadata": {
        "id": "QHBjwTZtsiU6"
      },
      "outputs": [],
      "source": [
        "def cube(number):\n",
        "  return number**3\n",
        "\n",
        "  number = 3"
      ]
    },
    {
      "cell_type": "code",
      "execution_count": 12,
      "metadata": {
        "id": "DOrbJP8ssiU6",
        "colab": {
          "base_uri": "https://localhost:8080/"
        },
        "outputId": "8fea52e8-85ff-47ba-ab05-e750ed549b63"
      },
      "outputs": [
        {
          "output_type": "stream",
          "name": "stdout",
          "text": [
            "27\n"
          ]
        }
      ],
      "source": [
        "print(cube(number))"
      ]
    },
    {
      "cell_type": "markdown",
      "metadata": {
        "id": "KI4gSEKlsiU6"
      },
      "source": [
        "2."
      ]
    },
    {
      "cell_type": "code",
      "execution_count": 29,
      "metadata": {
        "id": "DTagKV5XsiU6",
        "colab": {
          "base_uri": "https://localhost:8080/"
        },
        "outputId": "276231f5-62c0-4f35-df93-b077de517b0e"
      },
      "outputs": [
        {
          "output_type": "stream",
          "name": "stdout",
          "text": [
            "Hello Dean\n"
          ]
        }
      ],
      "source": [
        "def say_hello(name):\n",
        "  print(\"Hello\", name)\n",
        "\n",
        "say_hello(\"Dean\")"
      ]
    },
    {
      "cell_type": "code",
      "execution_count": 20,
      "metadata": {
        "id": "C4xt-uVGsiU6",
        "colab": {
          "base_uri": "https://localhost:8080/"
        },
        "outputId": "b8a7f1c2-fd12-43d8-aac1-238c5f44a27a"
      },
      "outputs": [
        {
          "output_type": "stream",
          "name": "stdout",
          "text": [
            "<function say_hello at 0x7d03ff1da480>\n"
          ]
        }
      ],
      "source": []
    },
    {
      "cell_type": "markdown",
      "metadata": {
        "id": "VzSKqwa4siU6"
      },
      "source": [
        "### **Why Functions?**"
      ]
    },
    {
      "cell_type": "code",
      "execution_count": null,
      "metadata": {
        "id": "6ACWF0FVsiU6"
      },
      "outputs": [],
      "source": [
        "1**2\n",
        "2**2\n",
        "3**2\n",
        "4**2\n",
        "5**2\n",
        "6**2\n",
        "7**2\n",
        "8**2\n",
        "9**2"
      ]
    },
    {
      "cell_type": "markdown",
      "metadata": {
        "id": "VpMSVvd8siU6"
      },
      "source": [
        "Forgot to Print?"
      ]
    },
    {
      "cell_type": "code",
      "execution_count": 30,
      "metadata": {
        "id": "YM7je9mpsiU6",
        "colab": {
          "base_uri": "https://localhost:8080/"
        },
        "outputId": "25e4020f-f01e-46f7-9dac-ed21647b9a28"
      },
      "outputs": [
        {
          "output_type": "stream",
          "name": "stdout",
          "text": [
            "1\n",
            "4\n",
            "9\n",
            "16\n",
            "25\n",
            "36\n",
            "49\n",
            "64\n",
            "81\n"
          ]
        }
      ],
      "source": [
        "print(1**2)\n",
        "print(2**2)\n",
        "print(3**2)\n",
        "print(4**2)\n",
        "print(5**2)\n",
        "print(6**2)\n",
        "print(7**2)\n",
        "print(8**2)\n",
        "print(9**2)"
      ]
    },
    {
      "cell_type": "markdown",
      "metadata": {
        "id": "JAvgWYGMsiU6"
      },
      "source": [
        "In function:"
      ]
    },
    {
      "cell_type": "code",
      "execution_count": 36,
      "metadata": {
        "id": "Rg-LClmVsiU6"
      },
      "outputs": [],
      "source": [
        "def do_it(x):\n",
        "    print(x**2 + 2)"
      ]
    },
    {
      "cell_type": "code",
      "execution_count": 37,
      "metadata": {
        "id": "OM9h1Ky0siU-",
        "colab": {
          "base_uri": "https://localhost:8080/"
        },
        "outputId": "038a4e0f-b22a-49be-a399-cf00d012e487"
      },
      "outputs": [
        {
          "output_type": "stream",
          "name": "stdout",
          "text": [
            "1\n",
            "4\n",
            "9\n",
            "16\n",
            "25\n",
            "36\n",
            "49\n",
            "64\n",
            "81\n"
          ]
        }
      ],
      "source": [
        "do_it(1)\n",
        "do_it(2)\n",
        "do_it(3)\n",
        "do_it(4)\n",
        "do_it(5)\n",
        "do_it(6)\n",
        "do_it(7)\n",
        "do_it(8)\n",
        "do_it(9)"
      ]
    },
    {
      "cell_type": "markdown",
      "metadata": {
        "id": "0sTToqa_siU-"
      },
      "source": [
        "### More About Functions"
      ]
    },
    {
      "cell_type": "code",
      "execution_count": null,
      "metadata": {
        "id": "_mUhWdXasiU-"
      },
      "outputs": [],
      "source": [
        "def print_this(a):\n",
        "    print('inside print_this: ', a)\n",
        "\n",
        "a = 5\n",
        "print_this(2)\n",
        "print('a = ', a)"
      ]
    },
    {
      "cell_type": "markdown",
      "metadata": {
        "id": "nU4SkjIwsiU-"
      },
      "source": [
        "Notice that even though `print_this` was printing the variable `a` inside the function and there was a variable `a` defined outside of the function, the `print` function inside `print_this` still printed what was passed in."
      ]
    },
    {
      "cell_type": "code",
      "execution_count": null,
      "metadata": {
        "id": "DV-sPatTsiU-"
      },
      "outputs": [],
      "source": [
        "def print_it():\n",
        "    print('inside print_it: ', a)\n",
        "\n",
        "a = 5\n",
        "print_it()\n",
        "print('a = ', a)"
      ]
    },
    {
      "cell_type": "code",
      "execution_count": null,
      "metadata": {
        "id": "QuS2s7NisiU-"
      },
      "outputs": [],
      "source": [
        "def some_exponent(exponent):\n",
        "    def func(x):\n",
        "        return x**exponent\n",
        "    return func"
      ]
    },
    {
      "cell_type": "markdown",
      "metadata": {
        "id": "pPLlry9xsiU-"
      },
      "source": [
        "### Exercises\n",
        "\n",
        "1. Modify the `do_it` function to print the square of the value it currently prints."
      ]
    },
    {
      "cell_type": "markdown",
      "metadata": {
        "id": "3WtTXxq3siU-"
      },
      "source": [
        "### Solution"
      ]
    },
    {
      "cell_type": "code",
      "execution_count": 41,
      "metadata": {
        "id": "TLhNK2PwsiU-"
      },
      "outputs": [],
      "source": [
        "def do_it(x):\n",
        "    print(x**2)"
      ]
    },
    {
      "cell_type": "code",
      "execution_count": 42,
      "metadata": {
        "id": "_0fb6JA0siU-",
        "colab": {
          "base_uri": "https://localhost:8080/"
        },
        "outputId": "30c412ee-f41a-4a79-8906-7b9bab82758f"
      },
      "outputs": [
        {
          "output_type": "stream",
          "name": "stdout",
          "text": [
            "1\n",
            "4\n",
            "9\n",
            "16\n",
            "25\n",
            "36\n",
            "49\n",
            "64\n",
            "81\n"
          ]
        }
      ],
      "source": [
        "do_it(1)\n",
        "do_it(2)\n",
        "do_it(3)\n",
        "do_it(4)\n",
        "do_it(5)\n",
        "do_it(6)\n",
        "do_it(7)\n",
        "do_it(8)\n",
        "do_it(9)"
      ]
    },
    {
      "cell_type": "markdown",
      "metadata": {
        "id": "u9sxra7qsiU-"
      },
      "source": [
        "## **Syntax**\n",
        "- the rules for organizing code the programming language's\n",
        "- Python's syntax is very streamlined so that the code is readable and intuitive"
      ]
    },
    {
      "cell_type": "code",
      "execution_count": 43,
      "metadata": {
        "id": "W4j6FD5-siU-",
        "colab": {
          "base_uri": "https://localhost:8080/",
          "height": 70
        },
        "outputId": "26a2099a-eb7d-4c26-a686-75f1477d6a25"
      },
      "outputs": [
        {
          "output_type": "stream",
          "name": "stdout",
          "text": [
            "example_a is running\n",
            "returning value \"a\"\n"
          ]
        },
        {
          "output_type": "execute_result",
          "data": {
            "text/plain": [
              "'a'"
            ],
            "application/vnd.google.colaboratory.intrinsic+json": {
              "type": "string"
            }
          },
          "metadata": {},
          "execution_count": 43
        }
      ],
      "source": [
        "def example_a():\n",
        "    print('example_a is running')\n",
        "    print('returning value \"a\"')\n",
        "    return 'a'\n",
        "\n",
        "example_a()"
      ]
    },
    {
      "cell_type": "code",
      "execution_count": 44,
      "metadata": {
        "id": "DPJUq4h5siU_",
        "colab": {
          "base_uri": "https://localhost:8080/"
        },
        "outputId": "3e1277cf-c64a-4948-fe8c-ae4b559b5686"
      },
      "outputs": [
        {
          "output_type": "stream",
          "name": "stdout",
          "text": [
            "example_b is running\n",
            "exiting without returning a value\n"
          ]
        }
      ],
      "source": [
        "def example_b():\n",
        "    print('example_b is running')\n",
        "    print('exiting without returning a value')\n",
        "\n",
        "example_b()"
      ]
    },
    {
      "cell_type": "markdown",
      "metadata": {
        "id": "fJt_8AgqsiU_"
      },
      "source": [
        "## **Conditionals and logic**"
      ]
    },
    {
      "cell_type": "code",
      "execution_count": null,
      "metadata": {
        "id": "Aef_fnfHsiU_"
      },
      "outputs": [],
      "source": [
        "def test_high_score(player_score, high_score):\n",
        "    if player_score > high_score:\n",
        "        print('High score!')\n",
        "        high_score = player_score\n",
        "\n",
        "    return high_score"
      ]
    },
    {
      "cell_type": "code",
      "execution_count": null,
      "metadata": {
        "id": "vfyktRr4siU_"
      },
      "outputs": [],
      "source": [
        "print(test_high_score(83, 98))"
      ]
    },
    {
      "cell_type": "code",
      "execution_count": null,
      "metadata": {
        "id": "untbNEdHsiU_"
      },
      "outputs": [],
      "source": [
        "print(test_high_score(95, 93))"
      ]
    },
    {
      "cell_type": "markdown",
      "metadata": {
        "id": "ZOqCdvmesiU_"
      },
      "source": [
        "Conditional statements are used to control program flow. We can visualize our example, `test_high_score`, in a decision tree.\n",
        "\n",
        "![simple_logic_flowchart](https://github.com/arlpx/dt_data_science/blob/main/images/high_score_flowchart.png?raw=1)\n",
        "\n",
        "We can nest `if` statements to make more complicated trees."
      ]
    },
    {
      "cell_type": "code",
      "execution_count": null,
      "metadata": {
        "id": "Le--FICGsiU_"
      },
      "outputs": [],
      "source": [
        "def nested_example(x):\n",
        "    if x < 50:\n",
        "        if x % 2 == 0:\n",
        "            return 'branch a'\n",
        "        else:\n",
        "            return 'branch b'\n",
        "    else:\n",
        "        return 'branch c'\n",
        "\n",
        "print(nested_example(42))\n",
        "print(nested_example(51))\n",
        "print(nested_example(37))"
      ]
    },
    {
      "cell_type": "markdown",
      "metadata": {
        "id": "CUm1HSC3siU_"
      },
      "source": [
        "In this example, we have an `if` statement nested under another `if` statement. As we change the input, we end up on different branches of the tree.\n",
        "\n",
        "![nested_logic_flowchart](https://github.com/arlpx/dt_data_science/blob/main/images/nested_logic_flowchart.png?raw=1)\n",
        "\n",
        "The statement that follows the `if` is called the **condition**. The condition can be either true or false."
      ]
    },
    {
      "cell_type": "code",
      "execution_count": null,
      "metadata": {
        "id": "Y032FjLisiU_"
      },
      "outputs": [],
      "source": [
        "print(50 > 10)\n",
        "print(2 + 2 == 4)\n",
        "print(-3 > 2)"
      ]
    },
    {
      "cell_type": "markdown",
      "metadata": {
        "id": "jBcyEOiesiU_"
      },
      "source": [
        "Conditions are evaluated as booleans, which are `True` or `False`. We can combine conditions by asking of condition A _and_ condition B are true. We could also ask if condition A *or* condition B are true. Let's consider whether such statements are true overall based on the possible values of condition A and condition B.\n",
        "\n",
        "|Condition A|Condition B|Condition A and Condition B|Condition A or Condition B|\n",
        "|:---------:|:---------:|:-------------------------:|:------------------------:|\n",
        "|True|True|True|True|\n",
        "|True|False|False|True|\n",
        "|False|True|False|True|\n",
        "|False|False|False|False|"
      ]
    },
    {
      "cell_type": "code",
      "execution_count": 45,
      "metadata": {
        "id": "3laY2wofsiU_",
        "colab": {
          "base_uri": "https://localhost:8080/"
        },
        "outputId": "41b8c548-0fe1-4d0f-e6ca-d779638a9997"
      },
      "outputs": [
        {
          "output_type": "stream",
          "name": "stdout",
          "text": [
            "True\n",
            "False\n",
            "False\n",
            "False\n"
          ]
        }
      ],
      "source": [
        "print(True and True)\n",
        "print(True and False)\n",
        "print(False and True)\n",
        "print(False and False)"
      ]
    },
    {
      "cell_type": "code",
      "execution_count": null,
      "metadata": {
        "id": "Ihy__N1VsiU_"
      },
      "outputs": [],
      "source": [
        "print(True or True)\n",
        "print(True or False)\n",
        "print(False or True)\n",
        "print(False or False)"
      ]
    },
    {
      "cell_type": "code",
      "execution_count": null,
      "metadata": {
        "id": "B0e4Qk7dsiU_"
      },
      "outputs": [],
      "source": [
        "x = 5\n",
        "y = 3\n",
        "\n",
        "print(x > 4 and y > 2)\n",
        "print(x > 7 and y > 2)\n",
        "print(x > 7 or y > 2)"
      ]
    },
    {
      "cell_type": "markdown",
      "metadata": {
        "id": "2S5TrgUdsiU_"
      },
      "source": [
        "## Logical Operations\n",
        "- `or`\n",
        "- `and`\n",
        "- `not` (Not True = False, Not False = True)"
      ]
    },
    {
      "cell_type": "code",
      "execution_count": null,
      "metadata": {
        "id": "bHwF8_MAsiU_"
      },
      "outputs": [],
      "source": [
        "print(not True)\n",
        "print(not False)"
      ]
    },
    {
      "cell_type": "code",
      "execution_count": null,
      "metadata": {
        "id": "WZhFOfGusiVA"
      },
      "outputs": [],
      "source": [
        "x = 10\n",
        "y = 8\n",
        "\n",
        "print(x > 7 or y < 7)\n",
        "print(not x > 7 or y < 7)\n",
        "print(not x > 7 or not y < 7)\n",
        "print(not (x > 7 or y < 7))"
      ]
    },
    {
      "cell_type": "markdown",
      "metadata": {
        "id": "-gYhtY1ssiVA"
      },
      "source": [
        "### Exercises\n",
        "\n",
        "1. Write a function which takes in a number and returns True if it is greater than 10 but less than 20 or it is less than -100.\n",
        "2. In the code above we have used the `%` operator.  What does this do?"
      ]
    },
    {
      "cell_type": "markdown",
      "metadata": {
        "id": "03_-71WWsiVA"
      },
      "source": [
        "### Solution"
      ]
    },
    {
      "cell_type": "code",
      "execution_count": 52,
      "metadata": {
        "id": "wJpe8nbasiVA"
      },
      "outputs": [],
      "source": [
        "def take_num(number):\n",
        "  if number >= 10 or number <= 20 or number <= -100:\n",
        "    return 'True'\n",
        "  else:\n",
        "    return 'False'"
      ]
    },
    {
      "cell_type": "code",
      "execution_count": 53,
      "metadata": {
        "id": "UVKKjobGsiVA",
        "colab": {
          "base_uri": "https://localhost:8080/"
        },
        "outputId": "b228369d-585c-418c-babd-eee0ce6aed6d"
      },
      "outputs": [
        {
          "output_type": "stream",
          "name": "stdout",
          "text": [
            "True\n"
          ]
        }
      ],
      "source": [
        "print(take_num(9))"
      ]
    },
    {
      "cell_type": "markdown",
      "metadata": {
        "id": "st-ubEpQsiVA"
      },
      "source": [
        "\n",
        "- `%`: return the remainder of the given number in which number divided to any other number."
      ]
    },
    {
      "cell_type": "markdown",
      "metadata": {
        "id": "3S4HAi9AsiVA"
      },
      "source": [
        "## **Iteration**\n",
        "- use repetitive loops to execute the same code many times."
      ]
    },
    {
      "cell_type": "markdown",
      "metadata": {
        "id": "4UrH4hTTsiVA"
      },
      "source": [
        "### **While Loop**\n",
        "- most basic kind of iteration\n",
        "- will keep executing so long as the condition after the `while` is `True`."
      ]
    },
    {
      "cell_type": "code",
      "execution_count": 60,
      "metadata": {
        "scrolled": true,
        "id": "3Sk7GhVysiVA",
        "outputId": "92ea7f5e-6e3b-4fbf-eee1-40c7bbec57c5",
        "colab": {
          "base_uri": "https://localhost:8080/"
        }
      },
      "outputs": [
        {
          "output_type": "stream",
          "name": "stdout",
          "text": [
            "Enter any positive integer number:10\n",
            "0\n",
            "1\n",
            "1\n",
            "2\n",
            "3\n",
            "5\n",
            "8\n",
            "13\n",
            "21\n",
            "34\n"
          ]
        }
      ],
      "source": [
        "n = int(input(\"Enter any positive integer number:\"))\n",
        "f0 = 0\n",
        "f1 = 1\n",
        "print(f0)\n",
        "print(f1)\n",
        "\n",
        "count = 2\n",
        "\n",
        "while count < n:\n",
        "    next_f = f0 + f1\n",
        "    print(next_f)\n",
        "\n",
        "    f0 = f1\n",
        "    f1 = next_f\n",
        "    count += 1\n"
      ]
    },
    {
      "cell_type": "code",
      "execution_count": null,
      "metadata": {
        "id": "5VwB5TZasiVB",
        "outputId": "c067f96c-f8fc-41f9-fd78-53a6352b6832"
      },
      "outputs": [
        {
          "name": "stdout",
          "output_type": "stream",
          "text": [
            "0\n",
            "1\n",
            "2\n",
            "3\n",
            "4\n"
          ]
        }
      ],
      "source": [
        "x = 0\n",
        "while x < 5:\n",
        "    print(x)\n",
        "    x = x + 1"
      ]
    },
    {
      "cell_type": "markdown",
      "metadata": {
        "id": "C0rgdlDUsiVB"
      },
      "source": [
        "Sometimes we will want our program to take a repeated action, but we won't know how many repetitions we will have to do, or it might be difficult to know ahead of time when the program should stop. How are we going to solve the problem?\n",
        "\n",
        "### Example\n",
        "Instructions for making bread:  \n",
        "1) Dissolve salt in water  \n",
        "2) Mix yeast into water  \n",
        "3) Mix water with flour to form dough  \n",
        "4) Knead dough  \n",
        "5) Let dough rise  \n",
        "6) Shape dough  \n",
        "7) Bake  \n",
        "\n",
        "The recipe has an ordered `list` of instructions."
      ]
    },
    {
      "cell_type": "code",
      "execution_count": null,
      "metadata": {
        "id": "OBlzSY1TsiVB"
      },
      "outputs": [],
      "source": [
        "bread_recipe = ['Dissolve salt in water', 'Mix yeast into water', 'Mix water with flour to form dough',\n",
        "                'Knead dough', 'Let dough rise', 'Shape dough', 'Bake']"
      ]
    },
    {
      "cell_type": "code",
      "execution_count": 58,
      "metadata": {
        "id": "wa8k_-elsiVB"
      },
      "outputs": [],
      "source": [
        "soup_recipe = ['Dissolve salt in water', 'Boil  water', 'Add bones to boiling water', 'Chop onions',\n",
        "               'Chop garlic', 'Chop carrot', 'Chop celery', 'Remove bones from water',\n",
        "               'Add vegetables to boiling water', 'Add meat to boiling water']\n",
        "\n",
        "beans_recipe = ['Soak beans in water', 'Dissolve salt in water', 'Heat water and beans to boil',\n",
        "                'Drain beans when done cooking']"
      ]
    },
    {
      "cell_type": "markdown",
      "metadata": {
        "id": "2cBE-1XUsiVB"
      },
      "source": [
        "## **For Loop**\n",
        "- used for executing a set of statements for each item in a list"
      ]
    },
    {
      "cell_type": "code",
      "execution_count": 57,
      "metadata": {
        "id": "h4vLIX9YsiVB"
      },
      "outputs": [],
      "source": [
        "def print_recipe(instructions):\n",
        "    for step in instructions:\n",
        "        print(step)"
      ]
    },
    {
      "cell_type": "code",
      "execution_count": 59,
      "metadata": {
        "id": "P3IpOj0SsiVB",
        "colab": {
          "base_uri": "https://localhost:8080/"
        },
        "outputId": "114bd1fc-bec3-4767-da99-1bf0a4729d1a"
      },
      "outputs": [
        {
          "output_type": "stream",
          "name": "stdout",
          "text": [
            "Dissolve salt in water\n",
            "Boil  water\n",
            "Add bones to boiling water\n",
            "Chop onions\n",
            "Chop garlic\n",
            "Chop carrot\n",
            "Chop celery\n",
            "Remove bones from water\n",
            "Add vegetables to boiling water\n",
            "Add meat to boiling water\n"
          ]
        }
      ],
      "source": [
        "print_recipe(soup_recipe)"
      ]
    },
    {
      "cell_type": "code",
      "execution_count": null,
      "metadata": {
        "id": "QhNaHh6DsiVB"
      },
      "outputs": [],
      "source": [
        "print_recipe(bread_recipe)"
      ]
    },
    {
      "cell_type": "code",
      "execution_count": null,
      "metadata": {
        "id": "3VsuqQzHsiVB"
      },
      "outputs": [],
      "source": [
        "print_recipe(beans_recipe)"
      ]
    },
    {
      "cell_type": "markdown",
      "metadata": {
        "id": "ko0Klr0ZsiVC"
      },
      "source": [
        "## Putting it all together\n",
        "\n",
        "- Major components of programs: **variables** and **functions**.\n",
        "- Two of the major components of program control: **conditionals** (`if` statements) and **iteration** (`for` and `while` loops). <br>\n",
        "\n",
        "We can use these ideas and tools to write code to perform complex tasks.\n",
        "\n",
        "\n",
        "### Exercise\n",
        "Below we write a function that prints out all the prime numbers up to some number `n`.\n",
        "- Use iteration to check if each number is prime.\n",
        "- Use a conditional to print out numbers only if they are prime.\n",
        "- Break up the task into small pieces so the code is easy to read and understand. (This means we will use (or _call_) helper functions inside of our solution."
      ]
    },
    {
      "cell_type": "code",
      "execution_count": null,
      "metadata": {
        "id": "stK323ZFsiVC"
      },
      "outputs": [],
      "source": []
    },
    {
      "cell_type": "code",
      "execution_count": null,
      "metadata": {
        "id": "UMkr-_4vsiVC"
      },
      "outputs": [],
      "source": []
    },
    {
      "cell_type": "code",
      "execution_count": null,
      "metadata": {
        "id": "vbWYT-4CsiVC"
      },
      "outputs": [],
      "source": []
    },
    {
      "cell_type": "markdown",
      "metadata": {
        "id": "a4KQHzcDsiVC"
      },
      "source": [
        "---"
      ]
    }
  ],
  "metadata": {
    "kernelspec": {
      "display_name": "Python 3 (ipykernel)",
      "language": "python",
      "name": "python3"
    },
    "language_info": {
      "codemirror_mode": {
        "name": "ipython",
        "version": 3
      },
      "file_extension": ".py",
      "mimetype": "text/x-python",
      "name": "python",
      "nbconvert_exporter": "python",
      "pygments_lexer": "ipython3",
      "version": "3.12.7"
    },
    "nbclean": true,
    "colab": {
      "provenance": [],
      "include_colab_link": true
    }
  },
  "nbformat": 4,
  "nbformat_minor": 0
}